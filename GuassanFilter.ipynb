{
 "cells": [
  {
   "cell_type": "code",
   "execution_count": 58,
   "id": "70b29740-7df1-4f9d-9716-82452455ef80",
   "metadata": {},
   "outputs": [],
   "source": [
    "import numpy as np\n",
    "import pandas as pd\n",
    "from osgeo import gdal, osr\n",
    "from scipy import stats\n",
    "import matplotlib.pyplot as plt\n",
    "%matplotlib inline\n",
    "import warnings\n",
    "warnings.filterwarnings('ignore')\n",
    "import os\n",
    "from scipy.ndimage import gaussian_filter"
   ]
  },
  {
   "cell_type": "code",
   "execution_count": 59,
   "id": "e3fb1640-5d69-4e67-9189-ccf3ce36f0cf",
   "metadata": {},
   "outputs": [],
   "source": [
    "def CreateGeoTiff(Name, Array, driver, NDV, \n",
    "                  GeoT, Projection, DataType):\n",
    "    Array[np.isnan(Array)] = NDV\n",
    "    # DataSet = driver.Create(Name, Array.shape[2], Array.shape[1], Array.shape[0], DataType)\n",
    "    # DataSet = driver.Create(Name, Array.shape[1], Array.shape[0], Array.shape[2], DataType)  ## col, row, bands\n",
    "    DataSet = driver.Create(Name, Array.shape[2], Array.shape[1], Array.shape[0], DataType)  ## col, row, bands\n",
    "    DataSet.SetGeoTransform(GeoT)\n",
    "    DataSet.SetProjection( Projection.ExportToWkt() )\n",
    "    # for i in range(Array.shape[2]):\n",
    "    for i in range(Array.shape[0]):       \n",
    "        # DataSet.GetRasterBand(i+1).WriteArray(Array[:,:,i] )\n",
    "        DataSet.GetRasterBand(i+1).WriteArray(Array[i,:,:] )\n",
    "        DataSet.GetRasterBand(i+1).SetNoDataValue(NDV)\n",
    "    DataSet.FlushCache()\n",
    "    return Name"
   ]
  },
  {
   "cell_type": "code",
   "execution_count": 60,
   "id": "d3cf333c-eadf-4f3a-8ead-2251ad611827",
   "metadata": {},
   "outputs": [],
   "source": [
    "### source: https://stackoverflow.com/questions/18697532/gaussian-filtering-a-image-with-nan-in-python\n",
    "\n",
    "def filter_nan_gaussian_conserving(arr, sigma):\n",
    "    \"\"\"Apply a gaussian filter to an array with nans.\n",
    "\n",
    "    Intensity is only shifted between not-nan pixels and is hence conserved.\n",
    "    The intensity redistribution with respect to each single point\n",
    "    is done by the weights of available pixels according\n",
    "    to a gaussian distribution.\n",
    "    All nans in arr, stay nans in gauss.\n",
    "    \"\"\"\n",
    "    nan_msk = np.isnan(arr)\n",
    "\n",
    "    loss = np.zeros(arr.shape)\n",
    "    loss[nan_msk] = 1\n",
    "    loss = gaussian_filter(\n",
    "            loss, sigma=sigma, mode='constant', cval=1)\n",
    "\n",
    "    gauss = arr.copy()\n",
    "    gauss[nan_msk] = 0\n",
    "    gauss = gaussian_filter(\n",
    "            gauss, sigma=sigma, mode='constant', cval=0)\n",
    "    gauss[nan_msk] = np.nan\n",
    "\n",
    "    gauss += loss * arr\n",
    "\n",
    "    return gauss"
   ]
  },
  {
   "cell_type": "code",
   "execution_count": 61,
   "id": "5595769f-5cf4-411f-935e-92c4521f5d81",
   "metadata": {},
   "outputs": [
    {
     "name": "stdout",
     "output_type": "stream",
     "text": [
      "[ 9.19970797  5.00487257  5.08482261  5.21819501  9.19970797  9.58764746\n",
      "  9.4735088   5.45051191  9.76410723 11.61714948 10.75371269]\n"
     ]
    }
   ],
   "source": [
    "# apply msi psf to wv3 VNIR image\n",
    "# we assume the WV3 bands and corresponding MSI MTFs are as below\n",
    "# S2 band          MSI MTF stdev\n",
    "# 1 = coastal       0.0173\n",
    "# 2 = blue          0.0318\n",
    "# 3 = green         0.0313\n",
    "# 4 = red           0.0305\n",
    "# 5 = red edge1         0.0173\n",
    "# 6 = red edge2        0.0166\n",
    "# 7 = red edge3      0.0168\n",
    "# 8 = nir1          0.0292\n",
    "# 9 = nri2          0.0163\n",
    "#10 =SWIR1           0.0137\n",
    "#11= SWIR2         0.0148\n",
    "# The MSI MTFs are taken from Li et al. https://www.mdpi.com/2072-4292/12/15/2406/htm\n",
    "sigmaf = np.array([0.0173,0.0318,0.0313,0.0305,0.0173,0.0166, 0.0168, 0.0292,0.0163,0.0137, 0.0148])\n",
    "sigmal =  1/(sigmaf*2*3.14159256)\n",
    "print(sigmal)\n",
    "numnS2bands = 11;"
   ]
  },
  {
   "cell_type": "code",
   "execution_count": 62,
   "id": "01c9ada1-a966-4f43-bc05-246a03f20a8b",
   "metadata": {},
   "outputs": [],
   "source": [
    "NEON_dir='F:\\\\neon\\\\valid\\\\image\\\\onemeter\\\\11bands'"
   ]
  },
  {
   "cell_type": "code",
   "execution_count": 63,
   "id": "41b3b4a1-5016-4d36-be30-5e5e5b0dfe7d",
   "metadata": {},
   "outputs": [
    {
     "name": "stdout",
     "output_type": "stream",
     "text": [
      "11 1104 6519\n",
      "11 981 10823\n",
      "11 1165 13706\n",
      "11 1420 15392\n",
      "11 973 6996\n",
      "11 924 12034\n",
      "11 995 10856\n",
      "11 1081 18702\n",
      "11 1030 11414\n",
      "11 1141 11602\n"
     ]
    }
   ],
   "source": [
    "for file in os.listdir(NEON_dir):\n",
    "    if file.endswith('11bands.tif'):       \n",
    "        full_path=NEON_dir+'\\\\'+file\n",
    "        \n",
    "        ds_S2 = gdal.Open(full_path)\n",
    "        ## projection information\n",
    "        prj=ds_S2.GetProjection()     \n",
    "        srs=osr.SpatialReference(wkt=prj)\n",
    "     \n",
    "        geotransform = ds_S2.GetGeoTransform()\n",
    "        bands=ds_S2.RasterCount \n",
    "        width=ds_S2.RasterXSize \n",
    "        height=ds_S2.RasterYSize \n",
    "        print (bands, width, height)\n",
    "        S2_B= np.empty([bands, height, width], dtype=float)\n",
    "        S2_B = np.array(ds_S2.ReadAsArray())\n",
    "        # print (S2_B.shape)\n",
    "        S2_B[S2_B==-9999.]=np.nan\n",
    "        \n",
    "        file_name=file.rsplit('.', maxsplit=1)[0]\n",
    "        file_filter=NEON_dir+'\\\\'+file_name+'_filt.tif'\n",
    "        \n",
    "        for x in range(0,numnS2bands):     \n",
    "            S2_B[x,:,:] = filter_nan_gaussian_conserving(S2_B[x,:,:],sigmal[x])\n",
    "        \n",
    "        data_type = gdal.GDT_Float32\n",
    "        driver = gdal.GetDriverByName('GTiff')\n",
    "        CreateGeoTiff(file_filter, S2_B, driver, -9999, geotransform, srs, data_type)\n",
    "        \n",
    "        file_filter_10m=NEON_dir+'\\\\'+file_name+'_filt_10m.tif'\n",
    "        file_filter_20m=NEON_dir+'\\\\'+file_name+'_filt_20m.tif'\n",
    "        \n",
    "        raster_rprj = gdal.Warp(file_filter_10m, file_filter, xRes=10, yRes=10, resampleAlg = \"average\")\n",
    "        raster_rprj = gdal.Warp(file_filter_20m, file_filter, xRes=20, yRes=20, resampleAlg = \"average\")\n",
    "        raster_rprj = None"
   ]
  },
  {
   "cell_type": "code",
   "execution_count": null,
   "id": "602d0f1e-fbcc-4a95-80cb-e06a948d149e",
   "metadata": {},
   "outputs": [],
   "source": []
  }
 ],
 "metadata": {
  "kernelspec": {
   "display_name": "Python 3 (ipykernel)",
   "language": "python",
   "name": "python3"
  },
  "language_info": {
   "codemirror_mode": {
    "name": "ipython",
    "version": 3
   },
   "file_extension": ".py",
   "mimetype": "text/x-python",
   "name": "python",
   "nbconvert_exporter": "python",
   "pygments_lexer": "ipython3",
   "version": "3.10.9"
  }
 },
 "nbformat": 4,
 "nbformat_minor": 5
}
